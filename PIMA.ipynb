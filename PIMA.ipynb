{
 "cells": [
  {
   "cell_type": "markdown",
   "metadata": {},
   "source": [
    "Dataset\n",
    "The dataset can be found on the Kaggle website. This dataset is originally from the National Institute of Diabetes and Digestive and Kidney Diseases and can be used to predict whether a patient has diabetes based on certain diagnostic factors. Starting off, I use Python 3.3 to implement the model. It is important to perform some basic analysis to get an overall idea of the dataset."
   ]
  },
  {
   "cell_type": "markdown",
   "metadata": {},
   "source": [
    "Since the dataset has only 768 observations and 9 columns, we use this function. The output gets saved as an HTML report in the working directory.\n",
    "Let’s have a look at Age. By having a quick look at the histogram on the top right, we can observe much of the characteristics. The variable does not follow a normal distribution as it is skewed to the right (or positively skewed). The average age is is 33 whereas the median age is 29. This further confirms our analysis (as in case of normal distribution, the mean should be approximately equal to the median). Most importantly, none of the values seem abnormal, that is, the minimum age of 21 and the maximum age of 81 are possible for the study. Let’s have a look at other variables."
   ]
  },
  {
   "cell_type": "markdown",
   "metadata": {},
   "source": [
    "Doing the same for Blood Pressure, we can see that the variable can approximate to a normal distribution. However, we can not confirm that visually. We hence perform the Shapiro-Wilk test of normality. The null hypothesis (Ho) is that the data is normal."
   ]
  },
  {
   "cell_type": "markdown",
   "metadata": {},
   "source": [
    "Secondly, if we observe the minimum value for Blood Pressure, it is given as 0 (which is not possible). Therefore, there is incorrect information given. We have two choices now. One is to drop such observations (which results in 4.6% loss of data) or we can replace such values with median (imputing). I prefer imputing as we have a small dataset (768 observation only). Hence, every information is important."
   ]
  }
 ],
 "metadata": {
  "kernelspec": {
   "display_name": "Python 3",
   "language": "python",
   "name": "python3"
  },
  "language_info": {
   "codemirror_mode": {
    "name": "ipython",
    "version": 3
   },
   "file_extension": ".py",
   "mimetype": "text/x-python",
   "name": "python",
   "nbconvert_exporter": "python",
   "pygments_lexer": "ipython3",
   "version": "3.7.0"
  }
 },
 "nbformat": 4,
 "nbformat_minor": 2
}
