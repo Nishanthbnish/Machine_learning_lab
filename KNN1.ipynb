{
 "cells": [
  {
   "cell_type": "markdown",
   "metadata": {},
   "source": [
    "# Write a program to implement k-Nearest Neighbour algorithm to classify the iris data set. Print both correct and wrong predictions. Java/Python ML library classes can be used for this problem."
   ]
  },
  {
   "cell_type": "code",
   "execution_count": 2,
   "metadata": {},
   "outputs": [
    {
     "name": "stdout",
     "output_type": "stream",
     "text": [
      "Iris Data set loaded...\n"
     ]
    }
   ],
   "source": [
    "# import the required packages\n",
    "from sklearn.model_selection import train_test_split\n",
    "from sklearn.neighbors import KNeighborsClassifier\n",
    "from sklearn import datasets\n",
    "# Load dataset\n",
    "iris=datasets.load_iris()\n",
    "print(\"Iris Data set loaded...\")"
   ]
  },
  {
   "cell_type": "code",
   "execution_count": 3,
   "metadata": {},
   "outputs": [
    {
     "name": "stdout",
     "output_type": "stream",
     "text": [
      "Dataset is split into training and testing...\n",
      "Size of training data and its label (120, 4) (120,)\n",
      "Size of testing data and its label (30, 4) (30,)\n"
     ]
    }
   ],
   "source": [
    "# Split the data into train and test samples\n",
    "x_train, x_test, y_train, y_test = train_test_split(iris.data,iris.target,test_size=0.2)\n",
    "print(\"Dataset is split into training and testing...\")\n",
    "print(\"Size of training data and its label\",x_train.shape,y_train.shape)\n",
    "print(\"Size of testing data and its label\",x_test.shape, y_test.shape)"
   ]
  },
  {
   "cell_type": "code",
   "execution_count": 4,
   "metadata": {},
   "outputs": [
    {
     "name": "stdout",
     "output_type": "stream",
     "text": [
      "Label 0 - setosa\n",
      "Label 1 - versicolor\n",
      "Label 2 - virginica\n"
     ]
    }
   ],
   "source": [
    "# Prints Label no. and their names\n",
    "for i in range(len(iris.target_names)):\n",
    "    print(\"Label\", i , \"-\",str(iris.target_names[i]))"
   ]
  },
  {
   "cell_type": "code",
   "execution_count": 5,
   "metadata": {},
   "outputs": [],
   "source": [
    "# Create object of KNN classifier\n",
    "classifier = KNeighborsClassifier(n_neighbors=1)\n",
    "# Perform Training\n",
    "classifier.fit(x_train, y_train)\n",
    "# Perform testing\n",
    "y_pred=classifier.predict(x_test)"
   ]
  },
  {
   "cell_type": "code",
   "execution_count": 6,
   "metadata": {},
   "outputs": [
    {
     "name": "stdout",
     "output_type": "stream",
     "text": [
      "Results of Classification using K-nn with K=1 \n",
      " Sample: [5.2 2.7 3.9 1.4]  Actual-label: 1  Predicted-label: 1\n",
      " Sample: [6.3 2.5 5.  1.9]  Actual-label: 2  Predicted-label: 2\n",
      " Sample: [4.8 3.1 1.6 0.2]  Actual-label: 0  Predicted-label: 0\n",
      " Sample: [7.7 2.8 6.7 2. ]  Actual-label: 2  Predicted-label: 2\n",
      " Sample: [6.8 3.2 5.9 2.3]  Actual-label: 2  Predicted-label: 2\n",
      " Sample: [4.6 3.2 1.4 0.2]  Actual-label: 0  Predicted-label: 0\n",
      " Sample: [5.2 3.4 1.4 0.2]  Actual-label: 0  Predicted-label: 0\n",
      " Sample: [4.9 3.6 1.4 0.1]  Actual-label: 0  Predicted-label: 0\n",
      " Sample: [5.1 3.8 1.9 0.4]  Actual-label: 0  Predicted-label: 0\n",
      " Sample: [4.8 3.  1.4 0.1]  Actual-label: 0  Predicted-label: 0\n",
      " Sample: [6.4 2.8 5.6 2.2]  Actual-label: 2  Predicted-label: 2\n",
      " Sample: [5.  3.5 1.3 0.3]  Actual-label: 0  Predicted-label: 0\n",
      " Sample: [6.2 2.2 4.5 1.5]  Actual-label: 1  Predicted-label: 1\n",
      " Sample: [7.9 3.8 6.4 2. ]  Actual-label: 2  Predicted-label: 2\n",
      " Sample: [6.7 3.  5.  1.7]  Actual-label: 1  Predicted-label: 1\n",
      " Sample: [4.5 2.3 1.3 0.3]  Actual-label: 0  Predicted-label: 0\n",
      " Sample: [5.6 3.  4.5 1.5]  Actual-label: 1  Predicted-label: 1\n",
      " Sample: [7.2 3.  5.8 1.6]  Actual-label: 2  Predicted-label: 2\n",
      " Sample: [4.7 3.2 1.3 0.2]  Actual-label: 0  Predicted-label: 0\n",
      " Sample: [5.5 2.3 4.  1.3]  Actual-label: 1  Predicted-label: 1\n",
      " Sample: [5.5 2.6 4.4 1.2]  Actual-label: 1  Predicted-label: 1\n",
      " Sample: [4.9 3.  1.4 0.2]  Actual-label: 0  Predicted-label: 0\n",
      " Sample: [5.6 2.7 4.2 1.3]  Actual-label: 1  Predicted-label: 1\n",
      " Sample: [5.1 3.7 1.5 0.4]  Actual-label: 0  Predicted-label: 0\n",
      " Sample: [6.1 2.8 4.7 1.2]  Actual-label: 1  Predicted-label: 1\n",
      " Sample: [6.4 3.1 5.5 1.8]  Actual-label: 2  Predicted-label: 2\n",
      " Sample: [6.  2.2 5.  1.5]  Actual-label: 2  Predicted-label: 1\n",
      " Sample: [5.7 3.8 1.7 0.3]  Actual-label: 0  Predicted-label: 0\n",
      " Sample: [5.7 2.8 4.5 1.3]  Actual-label: 1  Predicted-label: 1\n",
      " Sample: [5.1 2.5 3.  1.1]  Actual-label: 1  Predicted-label: 1\n",
      "Classification Accuracy : 0.9666666666666667\n"
     ]
    }
   ],
   "source": [
    "# Display the results\n",
    "print(\"Results of Classification using K-nn with K=1 \")\n",
    "for r in range(0,len(x_test)):\n",
    "    print(\" Sample:\", str(x_test[r]), \" Actual-label:\", str(y_test[r]), \" Predicted-label:\",\n",
    "          str(y_pred[r]))\n",
    "print(\"Classification Accuracy :\" , classifier.score(x_test,y_test));\n",
    "#from sklearn.metrics import classification_report, confusion_matrix\n",
    "#print('Confusion Matrix')\n",
    "#print(confusion_matrix(y_test,y_pred))\n",
    "#print('Accuracy Metrics')\n",
    "#print(classification_report(y_test,y_pred))"
   ]
  },
  {
   "cell_type": "code",
   "execution_count": null,
   "metadata": {},
   "outputs": [],
   "source": []
  }
 ],
 "metadata": {
  "kernelspec": {
   "display_name": "Python 3",
   "language": "python",
   "name": "python3"
  },
  "language_info": {
   "codemirror_mode": {
    "name": "ipython",
    "version": 3
   },
   "file_extension": ".py",
   "mimetype": "text/x-python",
   "name": "python",
   "nbconvert_exporter": "python",
   "pygments_lexer": "ipython3",
   "version": "3.7.0"
  }
 },
 "nbformat": 4,
 "nbformat_minor": 2
}
